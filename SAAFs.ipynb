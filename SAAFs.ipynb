{
 "cells": [
  {
   "cell_type": "code",
   "execution_count": 1,
   "id": "9ac09cf9-f020-4f86-a3f8-3854f46ca0b9",
   "metadata": {
    "execution": {
     "iopub.execute_input": "2022-10-16T00:30:22.585732Z",
     "iopub.status.busy": "2022-10-16T00:30:22.585146Z",
     "iopub.status.idle": "2022-10-16T00:30:22.591113Z",
     "shell.execute_reply": "2022-10-16T00:30:22.589614Z",
     "shell.execute_reply.started": "2022-10-16T00:30:22.585690Z"
    },
    "tags": []
   },
   "outputs": [],
   "source": [
    "import numpy as np\n",
    "import matplotlib.pyplot as plt"
   ]
  },
  {
   "cell_type": "code",
   "execution_count": 2,
   "id": "616e55db-88e6-4eb1-a175-8f4eb3529927",
   "metadata": {
    "execution": {
     "iopub.execute_input": "2022-10-16T00:30:22.997358Z",
     "iopub.status.busy": "2022-10-16T00:30:22.996832Z",
     "iopub.status.idle": "2022-10-16T00:30:23.002352Z",
     "shell.execute_reply": "2022-10-16T00:30:23.000954Z",
     "shell.execute_reply.started": "2022-10-16T00:30:22.997322Z"
    },
    "tags": []
   },
   "outputs": [],
   "source": [
    "noise = 50"
   ]
  },
  {
   "cell_type": "code",
   "execution_count": 3,
   "id": "b5265068-4bd0-4f21-bbc2-ad21f426eb44",
   "metadata": {
    "execution": {
     "iopub.execute_input": "2022-10-16T01:13:59.237643Z",
     "iopub.status.busy": "2022-10-16T01:13:59.237234Z",
     "iopub.status.idle": "2022-10-16T01:13:59.249670Z",
     "shell.execute_reply": "2022-10-16T01:13:59.248564Z",
     "shell.execute_reply.started": "2022-10-16T01:13:59.237611Z"
    },
    "tags": []
   },
   "outputs": [],
   "source": [
    "def np_to_img(np_img):\n",
    "    np.clip(np_img, 0, 255)\n",
    "    plt.figure(figsize=(7,7))\n",
    "    plt.imshow(np_img, interpolation='nearest');\n",
    "\n",
    "def create_centred_mask(distance):\n",
    "    return np.mgrid(-((distance-1)//2), (distance+1)//2)\n",
    "\n",
    "def compute_inverse_gradient(img_array, distance, iterates=1):    \n",
    "    try: height, width, depth = img_array.shape\n",
    "    except: print('The input array must be a rank-3 tensor.')\n",
    "    \n",
    "    try: distance % 2 == 1\n",
    "    except: print('Distance has to be odd.')\n",
    "        \n",
    "    # full_conv_mask = np.zeros((distance, distance, *img_array.shape))\n",
    "    returned_image = np.zeros(img_array.shape, dtype=float)\n",
    "    above = (distance-1)//2\n",
    "    below = (distance+1)//2\n",
    "\n",
    "    for i in range(iterates):\n",
    "        img_array = np.copy(returned_image)\n",
    "        for h in range(height):\n",
    "            for w in range(width):\n",
    "                # compute bounding boxes\n",
    "                h1 = max(0, h-above)\n",
    "                h2 = min(height, h+below)\n",
    "                w1 = max(0, w-above)\n",
    "                w2 = min(width, w+below)\n",
    "                # print((h1, h2), (w1, w2))\n",
    "\n",
    "                # compute corresponding inverse gradients\n",
    "                denom = (img_array[h,w,:]-img_array[h1:h2, w1:w2,:]).astype('float')\n",
    "                denom[denom==0]=0.5\n",
    "                deltas = 1/abs(denom)\n",
    "                conv_mask = deltas/(2*np.sum(deltas))\n",
    "\n",
    "                # fix conv mask coef. at the pixel to be 0.5\n",
    "                if h<(distance//2): cy = h\n",
    "                else: cy = distance//2\n",
    "                if w<(distance//2): cx = w\n",
    "                else: cx = distance//2\n",
    "                try: conv_mask[cy,cx,:] = 0.5\n",
    "                except: print((h1, h2), (w1, w2))\n",
    "                # add data to the final inverse_gradient array\n",
    "                returned_image[h,w,:] = np.sum(conv_mask*img_array[h1:h2,w1:w2,:], axis=(0,1))\n",
    "    return returned_image"
   ]
  },
  {
   "cell_type": "code",
   "execution_count": null,
   "id": "3ac3e638",
   "metadata": {},
   "outputs": [],
   "source": []
  }
 ],
 "metadata": {
  "kernelspec": {
   "display_name": "Python 3 (ipykernel)",
   "language": "python",
   "name": "python3"
  },
  "language_info": {
   "codemirror_mode": {
    "name": "ipython",
    "version": 3
   },
   "file_extension": ".py",
   "mimetype": "text/x-python",
   "name": "python",
   "nbconvert_exporter": "python",
   "pygments_lexer": "ipython3",
   "version": "3.9.7"
  },
  "vscode": {
   "interpreter": {
    "hash": "7520cd481d42c837f2cf076fa55809d3f5e3ffa6a425cfa9835d660c9a8544af"
   }
  }
 },
 "nbformat": 4,
 "nbformat_minor": 5
}
